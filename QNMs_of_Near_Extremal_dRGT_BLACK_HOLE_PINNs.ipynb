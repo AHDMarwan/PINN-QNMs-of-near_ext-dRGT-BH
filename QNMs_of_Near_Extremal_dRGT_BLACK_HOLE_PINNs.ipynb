{
  "cells": [
    {
      "cell_type": "code",
      "execution_count": null,
      "metadata": {
        "colab": {
          "base_uri": "https://localhost:8080/"
        },
        "id": "io37MacTIa_P",
        "outputId": "9a412a48-7bf1-433c-f35c-dddabf78af02"
      },
      "outputs": [
        {
          "output_type": "stream",
          "name": "stdout",
          "text": [
            "Collecting deepxde\n",
            "  Downloading DeepXDE-1.1.3-py3-none-any.whl (121 kB)\n",
            "\u001b[K     |████████████████████████████████| 121 kB 4.9 MB/s \n",
            "\u001b[?25hRequirement already satisfied: scipy in /usr/local/lib/python3.7/dist-packages (from deepxde) (1.4.1)\n",
            "Requirement already satisfied: matplotlib in /usr/local/lib/python3.7/dist-packages (from deepxde) (3.2.2)\n",
            "Collecting scikit-optimize\n",
            "  Downloading scikit_optimize-0.9.0-py2.py3-none-any.whl (100 kB)\n",
            "\u001b[K     |████████████████████████████████| 100 kB 5.4 MB/s \n",
            "\u001b[?25hRequirement already satisfied: scikit-learn in /usr/local/lib/python3.7/dist-packages (from deepxde) (1.0.2)\n",
            "Requirement already satisfied: numpy in /usr/local/lib/python3.7/dist-packages (from deepxde) (1.21.5)\n",
            "Requirement already satisfied: pyparsing!=2.0.4,!=2.1.2,!=2.1.6,>=2.0.1 in /usr/local/lib/python3.7/dist-packages (from matplotlib->deepxde) (3.0.7)\n",
            "Requirement already satisfied: cycler>=0.10 in /usr/local/lib/python3.7/dist-packages (from matplotlib->deepxde) (0.11.0)\n",
            "Requirement already satisfied: kiwisolver>=1.0.1 in /usr/local/lib/python3.7/dist-packages (from matplotlib->deepxde) (1.3.2)\n",
            "Requirement already satisfied: python-dateutil>=2.1 in /usr/local/lib/python3.7/dist-packages (from matplotlib->deepxde) (2.8.2)\n",
            "Requirement already satisfied: six>=1.5 in /usr/local/lib/python3.7/dist-packages (from python-dateutil>=2.1->matplotlib->deepxde) (1.15.0)\n",
            "Requirement already satisfied: threadpoolctl>=2.0.0 in /usr/local/lib/python3.7/dist-packages (from scikit-learn->deepxde) (3.1.0)\n",
            "Requirement already satisfied: joblib>=0.11 in /usr/local/lib/python3.7/dist-packages (from scikit-learn->deepxde) (1.1.0)\n",
            "Collecting pyaml>=16.9\n",
            "  Downloading pyaml-21.10.1-py2.py3-none-any.whl (24 kB)\n",
            "Requirement already satisfied: PyYAML in /usr/local/lib/python3.7/dist-packages (from pyaml>=16.9->scikit-optimize->deepxde) (3.13)\n",
            "Installing collected packages: pyaml, scikit-optimize, deepxde\n",
            "Successfully installed deepxde-1.1.3 pyaml-21.10.1 scikit-optimize-0.9.0\n"
          ]
        },
        {
          "output_type": "stream",
          "name": "stderr",
          "text": [
            "Deepxde backend not selected or invalid. Assuming tensorflow.compat.v1 for now.\n",
            "Using backend: tensorflow.compat.v1\n",
            "\n"
          ]
        },
        {
          "output_type": "stream",
          "name": "stdout",
          "text": [
            "Setting the default backend to \"tensorflow.compat.v1\". You can change it in the ~/.deepxde/config.json file or export the DDEBACKEND environment variable. Valid options are: tensorflow.compat.v1, tensorflow, pytorch, jax (all lowercase)\n",
            "WARNING:tensorflow:From /usr/local/lib/python3.7/dist-packages/tensorflow/python/compat/v2_compat.py:107: disable_resource_variables (from tensorflow.python.ops.variable_scope) is deprecated and will be removed in a future version.\n",
            "Instructions for updating:\n",
            "non-resource variables are not supported in the long term\n",
            "WARNING:tensorflow:From /usr/local/lib/python3.7/dist-packages/deepxde/nn/initializers.py:118: The name tf.keras.initializers.he_normal is deprecated. Please use tf.compat.v1.keras.initializers.he_normal instead.\n",
            "\n"
          ]
        }
      ],
      "source": [
        "!pip install --upgrade deepxde\n",
        "import numpy as np\n",
        "import cmath\n",
        "import math\n",
        "import mpmath as mp\n",
        "import deepxde as dde\n",
        "from deepxde.backend import tf\n",
        "import scipy as sc\n",
        "import functools\n",
        "import matplotlib.pyplot as plt\n",
        "import io\n",
        "import re\n",
        "\n",
        "import warnings\n",
        "warnings.filterwarnings('ignore')"
      ]
    },
    {
      "cell_type": "code",
      "source": [
        "N = 1.0 ### Mode number\n",
        "L = 2.0 ### Angular momentum multipole number\n",
        "\n",
        "M = 1.0 # Mass of black hole\n",
        "Lambda = 5.0001 # cosmological constant\n",
        "gamma = 0.05\n",
        "zeta = 2.51465\n",
        "rh =  0.8460 ### Event Horizon\n",
        "rc =  0.8509 ###\n",
        "\n",
        "ms = 0.0\n",
        "Q = 0.0 #charge\n",
        "####################################### https://journals.aps.org/prd/pdf/10.1103/PhysRevD.99.084002\n",
        "kappa = 1 ######## \n",
        "kappa_ = ((rc-rh)*(1 + zeta + gamma*rh - 2*(Q**2)/(rh**2)))/(2*rh**2) # kappa The surface gravity at the BH horizon (event horizon) \n",
        "V0 = ((kappa**2)*(L*(L - 1) + (ms**2)*(rh**2)))/(1 + zeta + gamma*rh - 2*(Q**2)/(rh**2)) "
      ],
      "metadata": {
        "id": "msZ-i1gXI_Rd"
      },
      "execution_count": 7,
      "outputs": []
    },
    {
      "cell_type": "code",
      "execution_count": null,
      "metadata": {
        "colab": {
          "base_uri": "https://localhost:8080/"
        },
        "id": "oHzKGnL6MIy-",
        "outputId": "be995191-a845-4c61-c292-c66502b5e43a"
      },
      "outputs": [
        {
          "output_type": "stream",
          "name": "stdout",
          "text": [
            "Compiling model...\n",
            "Building feed-forward neural network...\n",
            "'build' took 0.167390 s\n",
            "\n",
            "'compile' took 8.906422 s\n",
            "\n",
            "Initializing variables...\n",
            "Training model...\n",
            "\n",
            "Step      Train loss                                                                          Test loss                                                                           Test metric\n",
            "0         [7.18e-05, 1.14e-05, 1.03e-02, 1.03e-02, 3.95e+01, 3.89e+01, 1.68e+02, 7.16e+01]    [7.18e-05, 1.14e-05, 1.03e-02, 1.03e-02, 3.95e+01, 3.89e+01, 1.68e+02, 7.16e+01]    []  \n",
            "INFO:tensorflow:Optimization terminated with:\n",
            "  Message: b'CONVERGENCE: REL_REDUCTION_OF_F_<=_FACTR*EPSMCH'\n",
            "  Objective function value: 0.008751\n",
            "  Number of iterations: 266\n",
            "  Number of functions evaluations: 332\n",
            "332       [3.79e-03, 3.00e-03, 2.23e-08, 4.59e-08, 1.80e-06, 1.50e-07, 5.86e-04, 1.37e-03]    [3.79e-03, 3.00e-03, 2.23e-08, 4.59e-08, 1.80e-06, 1.50e-07, 5.86e-04, 1.37e-03]    []  \n",
            "\n",
            "Best model at step 332:\n",
            "  train loss: 8.75e-03\n",
            "  test loss: 8.75e-03\n",
            "  test metric: []\n",
            "\n",
            "'train' took 17.844156 s\n",
            "\n",
            "Compiling model...\n",
            "Warning: For the backend tensorflow.compat.v1, `external_trainable_variables` is ignored, and all trainable ``tf.Variable`` objects are automatically collected.\n",
            "'compile' took 5.806617 s\n",
            "\n",
            "Training model...\n",
            "\n",
            "Step      Train loss                                                                          Test loss                                                                           Test metric\n",
            "332       [3.79e-03, 3.00e-03, 2.23e-08, 4.59e-08, 1.80e-06, 1.50e-07, 5.86e-04, 1.37e-03]    [3.79e-03, 3.00e-03, 2.23e-08, 4.59e-08, 1.80e-06, 1.50e-07, 5.86e-04, 1.37e-03]    []  \n",
            "1000      [3.40e-03, 3.00e-03, 1.07e-08, 2.34e-08, 1.60e-06, 2.17e-08, 4.92e-04, 1.35e-03]    [3.40e-03, 3.00e-03, 1.07e-08, 2.34e-08, 1.60e-06, 2.17e-08, 4.92e-04, 1.35e-03]    []  \n",
            "2000      [3.07e-03, 2.75e-03, 1.82e-08, 2.82e-08, 2.57e-05, 7.43e-06, 5.88e-04, 1.33e-03]    [3.07e-03, 2.75e-03, 1.82e-08, 2.82e-08, 2.57e-05, 7.43e-06, 5.88e-04, 1.33e-03]    []  \n",
            "3000      [2.86e-03, 2.53e-03, 2.22e-08, 1.92e-08, 6.78e-04, 3.78e-05, 6.96e-04, 1.37e-03]    [2.86e-03, 2.53e-03, 2.22e-08, 1.92e-08, 6.78e-04, 3.78e-05, 6.96e-04, 1.37e-03]    []  \n",
            "4000      [2.73e-03, 2.35e-03, 3.37e-08, 2.88e-08, 1.24e-03, 8.71e-05, 7.39e-04, 1.46e-03]    [2.73e-03, 2.35e-03, 3.37e-08, 2.88e-08, 1.24e-03, 8.71e-05, 7.39e-04, 1.46e-03]    []  \n"
          ]
        }
      ],
      "source": [
        "# our variables\n",
        "omegaR = tf.Variable(1.0) ### omega = omegaR + i omegaI\n",
        "omegaI = tf.Variable(-1.0) \n",
        "######\n",
        "Dom_points = 100\n",
        "\n",
        "### definig our PDE \n",
        "\n",
        "def pde(y, psi):\n",
        "    psiR, psiI = psi[:, 0:1], psi[:, 1:2] ### psi = psiR + i psiI\n",
        "    dpsiR_y = dde.grad.jacobian(psi, y, i=0)\n",
        "    dpsiI_y = dde.grad.jacobian(psi, y, i=1)\n",
        "    dpsiR_yy = dde.grad.hessian(psi, y, component=0, i=0, j=0)\n",
        "    dpsiI_yy = dde.grad.hessian(psi, y, component=1, i=0, j=0)\n",
        "    dpsiR_yyy = dde.grad.jacobian(dpsiR_yy, y, i=0)\n",
        "    dpsiI_yyy = dde.grad.jacobian(dpsiI_yy, y, i=0)\n",
        "    dR = ((kappa**2) * (1 - y**2)**2) * dpsiR_yy - 2 * y * (kappa**2) * (1 - y**2) * dpsiR_y- (V0 * (1 - y**2)) * psiR - 2*omegaI*omegaR*psiI + (omegaR**2 - omegaI**2)*psiR\n",
        "    ddR =((kappa**2) * (1 - y**2)**2) * dpsiR_yyy - 6 * kappa**2 * y * (1 - y**2) * dpsiR_yy - ((1 - y**2) * (V0 + 2 * kappa**2) + 2 * (kappa * y)**2) * dpsiR_y + 2 * V0 * psiR - 2 * omegaI * omegaR * dpsiI_y + (omegaR**2 - omegaI**2) * dpsiR_y\n",
        "    dI = ((kappa**2) * (1 - y**2)**2) * dpsiI_yy - 2 * y * (kappa**2) * (1 - y**2) * dpsiI_y - (V0*(1 - y**2)) * psiI + 2*omegaI*omegaR*psiR + (omegaR**2 - omegaI**2)*psiI\n",
        "    ddI =((kappa**2) * (1 - y**2)**2) * dpsiI_yyy - 6 * kappa**2 * y * (1 - y**2) * dpsiI_yy - ((1 - y**2) * (V0 + 2 * kappa**2) + 2 * (kappa * y)**2) * dpsiI_y + 2 * V0 * psiI + 2 * omegaI * omegaR * dpsiR_y + (omegaR**2 - omegaI**2) * dpsiI_y\n",
        "    return [dR, dI]\n",
        "\n",
        "def funcR(y):### Real part of psi (true solution) https://arxiv.org/pdf/0905.2975.pdf\n",
        "    PSIR = []\n",
        "    for i in y:\n",
        "        Xi = 1/(1 + mp.exp(-2*kappa*mp.atanh(i)))      \n",
        "        Beta = ((1/4) - (V0/(kappa**2)))**(1/2)\n",
        "        Omega = (kappa)*(-(N + 1/2)*1j + ((V0/(kappa**2)) - (1/4))**(1/2))\n",
        "        a = 1/2 + Beta - ((Omega*1j)/kappa)\n",
        "        b = 1/2 - Beta - ((Omega*1j)/kappa)\n",
        "        c = 1 - ((Omega*1j)/kappa)\n",
        "        z = Xi\n",
        "        psiR = float(mp.re(((Xi*(1 - Xi))**((-Omega*1j)/(2*kappa)))*mp.hyp2f1(a, b, c, z)))\n",
        "        PSIR.append(psiR)\n",
        "    return np.array(PSIR)[:, None]\n",
        "\n",
        "def funcI(y):### Imaginary part of psi (true solution) https://arxiv.org/pdf/0905.2975.pdf\n",
        "    PSII = []\n",
        "    for i in y:\n",
        "        Xi = 1/(1 + mp.exp(-2*kappa*mp.atanh(i)))     \n",
        "        Beta = ((1/4) - (V0/(kappa**2)))**(1/2) \n",
        "        Omega = (kappa)*(-(N + 1/2)*1j + ((V0/(kappa**2)) - (1/4))**(1/2))\n",
        "        a = 1/2 + Beta - ((Omega*1j)/kappa)\n",
        "        b = 1/2 - Beta - ((Omega*1j)/kappa)\n",
        "        c = 1 - ((Omega*1j)/kappa)\n",
        "        z = Xi  \n",
        "        psiI = float(mp.im(((Xi*(1 - Xi))**((-Omega*1j)/(2*kappa)))*mp.hyp2f1(a, b, c, z)))\n",
        "        PSII.append(psiI) \n",
        "    return np.array(PSII)[:, None]\n",
        "  ### OTHER SOLLUTION  https://journals.aps.org/prd/pdf/10.1103/PhysRevD.99.084002\n",
        "\n",
        "Omega = (kappa)*(-(N + 1/2)*1j + ((V0/(kappa**2)) - (1/4))**(1/2)) \n",
        "OmegaR = mp.re(Omega) ### true values (not fed into PINN, but used as reference to calculate L2 rel. error)\n",
        "OmegaI = mp.im(Omega)\n",
        "\n",
        "RE1 = ((OmegaR - omegaR)**2/OmegaR**2)**(1/2)### relative error of Re[omega]\n",
        "RE2 = ((OmegaI - omegaI)**2/OmegaI**2)**(1/2)### relative error of Im[omega]\n",
        "ORE = (((OmegaR - omegaR)**2 + (OmegaI - omegaI)**2)/(OmegaR**2 + OmegaI**2))**(1/2)\n",
        "\n",
        "fnamevar = \"QNF.dat\" ### to save the quasinormale frequencies\n",
        "variable = dde.callbacks.VariableValue([omegaR, omegaI, RE1, RE2, ORE], period=1, filename=fnamevar, precision=7)\n",
        "\n",
        "'''the boundary conditions as usually given in the literature cannot\n",
        "be applied in the code as the solution at the boundary points is infinity.'''\n",
        "def boundary_l(x, on_boundary):\n",
        "        return on_boundary and np.isclose(x[0], -0.7) \n",
        "def boundary_r(x, on_boundary):\n",
        "        return on_boundary and np.isclose(x[0], 0.7)\n",
        "geom = dde.geometry.Interval(-0.7, 0.7) ### intervalle (-0.7, 0.7) the solution at -1 and 1 is infinity\n",
        "observe_y = np.linspace(-0.7, 0.7, num=100)[:, None] ### [1:] removes -1 (i.e. start point), [:, None] gives column vector form array\n",
        "observe_Y = np.linspace(-0.7, 0.7, num=100)\n",
        "\n",
        "bc1 = dde.icbc.DirichletBC(geom, lambda x: float(funcR(observe_Y)[0]), boundary_l, component=0) ## boundary conditions\n",
        "bc2 = dde.icbc.DirichletBC(geom, lambda x: float(funcR(observe_Y)[-1]), boundary_r, component=0)\n",
        "bc3 = dde.icbc.DirichletBC(geom, lambda x: float(funcI(observe_Y)[0]), boundary_l, component=1)\n",
        "bc4 = dde.icbc.DirichletBC(geom, lambda x: float(funcI(observe_Y)[-1]), boundary_r, component=1)\n",
        "\n",
        "PsiR = dde.PointSetBC(observe_y, funcR(observe_Y), component=0) ## generate Data set for psiR\n",
        "PsiI = dde.PointSetBC(observe_y, funcI(observe_Y), component=1) ## data set psiI\n",
        "data = dde.data.PDE(\n",
        "        geom,\n",
        "        pde,\n",
        "        [bc1, bc2, bc3, bc4, PsiR, PsiI],\n",
        "        num_domain=100,\n",
        "        num_boundary=100,\n",
        "        anchors=observe_y,       \n",
        "    )\n",
        "\n",
        "checkpoint_filepath = \"/content/model/model.ckpt\"\n",
        "model_checkpoint_callback = dde.callbacks.VariableValue([omegaI,omegaR], period=1000, filename=\"QNF1.dat\")\n",
        "\n",
        "activation = \"swish\"\n",
        "initializer = \"Glorot uniform\"\n",
        "net = dde.nn.PFNN([1, [36, 36], [20, 20], [20, 20], 2], activation, initializer)                 \n",
        "model = dde.Model(data, net)\n",
        "model.compile(\"L-BFGS-B\",loss_weights=[0.01, 0.01, 0.001, 0.001, 100, 100, 100, 100])\n",
        "model.train()\n",
        "learning_rate = 0.0001\n",
        "model.compile(\"adam\",lr=learning_rate, loss_weights=[0.01, 0.01, 0.001, 0.001, 100, 100, 100, 100], external_trainable_variables=[omegaI,omegaR])\n",
        "\n",
        "epoch = 150000\n",
        "\n",
        "losshistory, train_state = model.train(epochs = epoch, callbacks=[model_checkpoint_callback, variable]) \n",
        "#dde.saveplot(losshistory, train_state, issave=True, isplot=True)\n",
        "\n",
        "\n",
        "### Plotting omega_n: PINN approximation vs. exact/true solution.\n",
        "lines = open(fnamevar, \"r\").readlines()\n",
        "omega = np.array([np.fromstring(min(re.findall(re.escape('[')+\"(.*?)\"+re.escape(']'),line), key=len), sep=',') for line in lines])\n",
        "l,c = omega.shape\n",
        "plt.plot(omega[:,0],'b-')\n",
        "plt.plot(omega[:,1],'r-')\n",
        "plt.plot(np.ones(omega[:,0].shape)*OmegaR,'b--')\n",
        "plt.plot(np.ones(omega[:,1].shape)*OmegaI,'r--')\n",
        "plt.legend([r'$\\omega_R$ (approx)',r'$\\omega_I$ (approx)',r'$\\omega_R$ (exact)',r'$\\omega_I$ (exact)'],loc = \"top\")\n",
        "plt.title(r'$\\omega_n$')\n",
        "plt.xlabel('Training epoch')\n",
        "plt.show()\n",
        "\n",
        "\"\"\"L2 RO\"\"\"\n",
        "plt.plot(range(l),omega[:,2],'b--')\n",
        "plt.plot(range(l),omega[:,3],'r--')\n",
        "plt.plot(range(l),omega[:,4],'g-')\n",
        "plt.legend([r'$\\omega_R$',r'$\\omega_I$',r'$\\omega$'],loc = \"top\")\n",
        "plt.xlabel('Training epoch')\n",
        "plt.ylabel('L2 erreur relative')\n",
        "plt.title(r\"Précision de $\\omega_n$ (pendant l'entraînement)\")\n",
        "plt.show()"
      ]
    },
    {
      "cell_type": "markdown",
      "metadata": {
        "id": "_IAGWQuPchpX"
      },
      "source": [
        ""
      ]
    },
    {
      "cell_type": "code",
      "execution_count": null,
      "metadata": {
        "colab": {
          "base_uri": "https://localhost:8080/",
          "height": 235
        },
        "id": "zdTLLStFGQGg",
        "outputId": "b56ad55e-1033-4cf8-de75-be02b7ee7038"
      },
      "outputs": [
        {
          "output_type": "error",
          "ename": "IndexError",
          "evalue": "ignored",
          "traceback": [
            "\u001b[0;31m---------------------------------------------------------------------------\u001b[0m",
            "\u001b[0;31mIndexError\u001b[0m                                Traceback (most recent call last)",
            "\u001b[0;32m<ipython-input-6-c6251d823a1a>\u001b[0m in \u001b[0;36m<module>\u001b[0;34m()\u001b[0m\n\u001b[1;32m      1\u001b[0m \u001b[0mlines\u001b[0m \u001b[0;34m=\u001b[0m \u001b[0mopen\u001b[0m\u001b[0;34m(\u001b[0m\u001b[0;34m\"QNF1.dat\"\u001b[0m\u001b[0;34m,\u001b[0m \u001b[0;34m\"r\"\u001b[0m\u001b[0;34m)\u001b[0m\u001b[0;34m.\u001b[0m\u001b[0mreadlines\u001b[0m\u001b[0;34m(\u001b[0m\u001b[0;34m)\u001b[0m\u001b[0;34m\u001b[0m\u001b[0;34m\u001b[0m\u001b[0m\n\u001b[1;32m      2\u001b[0m \u001b[0;34m\u001b[0m\u001b[0m\n\u001b[0;32m----> 3\u001b[0;31m \u001b[0momegaR_p\u001b[0m \u001b[0;34m=\u001b[0m \u001b[0momega\u001b[0m\u001b[0;34m[\u001b[0m\u001b[0mepoch\u001b[0m\u001b[0;34m,\u001b[0m\u001b[0;36m0\u001b[0m\u001b[0;34m]\u001b[0m\u001b[0;34m*\u001b[0m\u001b[0mkappa_\u001b[0m\u001b[0;34m\u001b[0m\u001b[0;34m\u001b[0m\u001b[0m\n\u001b[0m\u001b[1;32m      4\u001b[0m \u001b[0momegaI_p\u001b[0m \u001b[0;34m=\u001b[0m \u001b[0momega\u001b[0m\u001b[0;34m[\u001b[0m\u001b[0mepoch\u001b[0m\u001b[0;34m,\u001b[0m\u001b[0;36m1\u001b[0m\u001b[0;34m]\u001b[0m\u001b[0;34m*\u001b[0m\u001b[0mkappa_\u001b[0m\u001b[0;34m\u001b[0m\u001b[0;34m\u001b[0m\u001b[0m\n\u001b[1;32m      5\u001b[0m \u001b[0mOmegaR_t\u001b[0m \u001b[0;34m=\u001b[0m \u001b[0mOmegaR\u001b[0m\u001b[0;34m*\u001b[0m\u001b[0mkappa_\u001b[0m\u001b[0;34m\u001b[0m\u001b[0;34m\u001b[0m\u001b[0m\n",
            "\u001b[0;31mIndexError\u001b[0m: index 150000 is out of bounds for axis 0 with size 151"
          ]
        }
      ],
      "source": [
        "lines = open(\"QNF1.dat\", \"r\").readlines()\n",
        "\n",
        "omegaR_p = omega[epoch,0]*kappa_\n",
        "omegaI_p = omega[epoch,1]*kappa_\n",
        "OmegaR_t = OmegaR*kappa_\n",
        "OmegaI_t = OmegaI*kappa_ \n",
        "\n",
        "R_E = (((OmegaR_t - omegaR_p)**2 + (OmegaI_t - omegaI_p)**2)/(OmegaR_t**2 + OmegaI_t**2))**(1/2)\n",
        "\n",
        "print(\"******************************************|\")\n",
        "print(\"QNMs of Near Extremal dRGT BH :\")\n",
        "print(\" N=\",N,\" and L = \",L)\n",
        "print(\"******************************************|\")\n",
        "print(\"PINNs\")\n",
        "print(\"******************************************|\")\n",
        "print(\"Wr = \",omega[epoch,0]*kappa_ + 1j*omega[epoch,1]*kappa_)\n",
        "\n",
        "print(\"******************************************|\")\n",
        "print(\"Formula\")\n",
        "print(\"******************************************|\")\n",
        "print(OmegaR*kappa_ + 1j*OmegaI*kappa_)\n",
        "print(\"******************************************|\")\n",
        "print(\"******************************************|\")\n",
        "print(\"RE = \", R_E)\n",
        "print(\"******************************************|\")\n",
        "print(\"******************************************|\")\n",
        "print(\"kh = \", kappa_)\n",
        "print(\"******************************************|\")"
      ]
    },
    {
      "cell_type": "code",
      "source": [
        ""
      ],
      "metadata": {
        "id": "30ksDuB1Iit-"
      },
      "execution_count": null,
      "outputs": []
    }
  ],
  "metadata": {
    "colab": {
      "collapsed_sections": [],
      "name": "QNMs_of_Near_Extremal_dRGT_BLACK_HOLE_PINNs",
      "provenance": []
    },
    "kernelspec": {
      "display_name": "Python 3",
      "language": "python",
      "name": "python3"
    },
    "language_info": {
      "codemirror_mode": {
        "name": "ipython",
        "version": 3
      },
      "file_extension": ".py",
      "mimetype": "text/x-python",
      "name": "python",
      "nbconvert_exporter": "python",
      "pygments_lexer": "ipython3",
      "version": "3.8.5"
    }
  },
  "nbformat": 4,
  "nbformat_minor": 0
}